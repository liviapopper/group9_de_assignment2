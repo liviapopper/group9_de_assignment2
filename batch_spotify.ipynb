{
 "cells": [
  {
   "cell_type": "code",
   "execution_count": 11,
   "id": "f859099b-b2de-4acd-8d13-415ba3b13ef2",
   "metadata": {},
   "outputs": [
    {
     "name": "stdout",
     "output_type": "stream",
     "text": [
      "root\n",
      " |-- id: string (nullable = true)\n",
      " |-- name: string (nullable = true)\n",
      "\n",
      "+---+------------+\n",
      "| id|        name|\n",
      "+---+------------+\n",
      "|  1|      'Rock'|\n",
      "|  2|       'Pop'|\n",
      "|  3|   'Hip-hop'|\n",
      "|  4|       'Rap'|\n",
      "|  5|       'R&B'|\n",
      "|  6| 'Classical'|\n",
      "|  7|    'Techno'|\n",
      "|  8|      'Jazz'|\n",
      "|  9|      'Folk'|\n",
      "| 10|   'Country'|\n",
      "| 11|     'Metal'|\n",
      "| 12|     'House'|\n",
      "|  1|      'Rock'|\n",
      "|  1|      'Rock'|\n",
      "|  8|      'Jazz'|\n",
      "|  8|      'Jazz'|\n",
      "|  8|      'Jazz'|\n",
      "| 11|     'Metal'|\n",
      "| 11|     'Metal'|\n",
      "| 11|     'Metal'|\n",
      "+---+------------+\n",
      "only showing top 20 rows\n",
      "\n",
      "+---+------------+\n",
      "| id|        name|\n",
      "+---+------------+\n",
      "|  8|      'Jazz'|\n",
      "|  5|       'R&B'|\n",
      "| 11|     'Metal'|\n",
      "|  1|      'Rock'|\n",
      "| 13|     'Polka'|\n",
      "|  3|   'Hip-hop'|\n",
      "|  2|       'Pop'|\n",
      "|  6| 'Classical'|\n",
      "|  7|    'Techno'|\n",
      "|  9|      'Folk'|\n",
      "| 10|   'Country'|\n",
      "| 12|     'House'|\n",
      "|  4|       'Rap'|\n",
      "+---+------------+\n",
      "\n"
     ]
    }
   ],
   "source": [
    "from pyspark.sql import SparkSession\n",
    "from pyspark import SparkConf\n",
    "\n",
    "sparkConf = SparkConf()\n",
    "sparkConf.setMaster(\"spark://spark-master:7077\")\n",
    "sparkConf.setAppName(\"SpotifyGenreUpdate\")\n",
    "sparkConf.set(\"spark.driver.memory\", \"2g\")\n",
    "sparkConf.set(\"spark.executor.cores\", \"1\")\n",
    "sparkConf.set(\"spark.driver.cores\", \"1\")\n",
    "# create the spark session, which is the entry point to Spark SQL engine.\n",
    "spark = SparkSession.builder.config(conf=sparkConf).getOrCreate()\n",
    "\n",
    "#loading data locally --> upload data to jupyther lab\n",
    "df_local = spark.read.format(\"csv\").option(\"header\", \"true\").option('delimiter',',') \\\n",
    "       .load(\"/home/jovyan/data/genre_repeated.csv\")\n",
    "df_local.printSchema()\n",
    "\n",
    "df_local.show()  \n",
    "\n",
    "#transformation\n",
    "df_local = df_local.distinct()\n",
    "df_local.show()"
   ]
  },
  {
   "cell_type": "code",
   "execution_count": 12,
   "id": "08aad259-7ae9-44cb-b616-ea25fe37810c",
   "metadata": {},
   "outputs": [
    {
     "name": "stdout",
     "output_type": "stream",
     "text": [
      "root\n",
      " |-- id: string (nullable = true)\n",
      " |-- name: string (nullable = true)\n",
      "\n",
      "+---+----+\n",
      "| id|name|\n",
      "+---+----+\n",
      "+---+----+\n",
      "\n"
     ]
    }
   ],
   "source": [
    "# Load data from BigQuery.\n",
    "df_bigquery = spark.read \\\n",
    "  .format(\"bigquery\") \\\n",
    "  .load(\"de-2022-366209.spotify.genre\")    # project_id.datatset.tablename. Use your project id\n",
    "df_bigquery.printSchema()\n",
    "df_bigquery.show(4)"
   ]
  },
  {
   "cell_type": "code",
   "execution_count": 13,
   "id": "3c5cee16-640a-41f7-ac6c-0a5d778f573f",
   "metadata": {},
   "outputs": [
    {
     "name": "stdout",
     "output_type": "stream",
     "text": [
      "+---+--------+\n",
      "| id|    name|\n",
      "+---+--------+\n",
      "|  8|  'Jazz'|\n",
      "|  5|   'R&B'|\n",
      "| 11| 'Metal'|\n",
      "|  1|  'Rock'|\n",
      "+---+--------+\n",
      "only showing top 4 rows\n",
      "\n",
      "root\n",
      " |-- id: string (nullable = true)\n",
      " |-- name: string (nullable = true)\n",
      "\n"
     ]
    }
   ],
   "source": [
    "# Select missing genre in Big Query\n",
    "join_ = df_local['id'] == df_bigquery['id']  \n",
    "df_miss = df_local.join(df_bigquery, join_, 'left_anti')\n",
    "df_miss.show(4)\n",
    "df_miss.printSchema()"
   ]
  },
  {
   "cell_type": "code",
   "execution_count": 14,
   "id": "fd4c0b5c-985f-43b6-a299-31a5fb79f105",
   "metadata": {},
   "outputs": [],
   "source": [
    "# Use the Cloud Storage bucket for temporary BigQuery export data used by the connector.\n",
    "bucket = \"de_temp_assignment2\"  # own bucket \n",
    "spark.conf.set('temporaryGcsBucket', bucket)\n",
    "# Setup hadoop fs configuration for schema gs://\n",
    "conf = spark.sparkContext._jsc.hadoopConfiguration()\n",
    "conf.set(\"fs.gs.impl\", \"com.google.cloud.hadoop.fs.gcs.GoogleHadoopFileSystem\")\n",
    "conf.set(\"fs.AbstractFileSystem.gs.impl\", \"com.google.cloud.hadoop.fs.gcs.GoogleHadoopFS\")\n",
    "\n",
    "# Saving the data to BigQuery\n",
    "df_miss.write.format('bigquery') \\\n",
    "  .option('table', 'de-2022-366209.spotify.genre') \\\n",
    "  .mode(\"append\") \\\n",
    "  .save()\n"
   ]
  },
  {
   "cell_type": "code",
   "execution_count": 15,
   "id": "54cde701-ec28-4141-aa25-a4ce869979ea",
   "metadata": {},
   "outputs": [],
   "source": [
    "spark.stop()"
   ]
  },
  {
   "cell_type": "code",
   "execution_count": 16,
   "id": "f8fe677b-ae91-452d-81df-f4c8cddb2f06",
   "metadata": {},
   "outputs": [],
   "source": [
    "#Supported join types include: 'inner', 'outer', 'full', 'fullouter', 'full_outer', 'leftouter', 'left', 'left_outer', 'rightouter', 'right', 'right_outer', 'leftsemi', 'left_semi', 'semi', 'leftanti', 'left_anti', 'anti', 'cross'."
   ]
  }
 ],
 "metadata": {
  "kernelspec": {
   "display_name": "Python 3 (ipykernel)",
   "language": "python",
   "name": "python3"
  },
  "language_info": {
   "codemirror_mode": {
    "name": "ipython",
    "version": 3
   },
   "file_extension": ".py",
   "mimetype": "text/x-python",
   "name": "python",
   "nbconvert_exporter": "python",
   "pygments_lexer": "ipython3",
   "version": "3.10.6"
  }
 },
 "nbformat": 4,
 "nbformat_minor": 5
}
